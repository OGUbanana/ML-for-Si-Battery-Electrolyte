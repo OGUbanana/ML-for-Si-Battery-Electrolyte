{
 "cells": [
  {
   "cell_type": "code",
   "execution_count": null,
   "id": "a0669764-43cc-4d21-ae85-aa93dc0282dd",
   "metadata": {},
   "outputs": [],
   "source": [
    "123456"
   ]
  }
 ],
 "metadata": {
  "kernelspec": {
   "display_name": "Python 3 (ipykernel)",
   "language": "python",
   "name": "python3"
  },
  "language_info": {
   "codemirror_mode": {
    "name": "ipython",
    "version": 3
   },
   "file_extension": ".py",
   "mimetype": "text/x-python",
   "name": "python",
   "nbconvert_exporter": "python",
   "pygments_lexer": "ipython3",
   "version": "3.9.13"
  }
 },
 "nbformat": 4,
 "nbformat_minor": 5
}
